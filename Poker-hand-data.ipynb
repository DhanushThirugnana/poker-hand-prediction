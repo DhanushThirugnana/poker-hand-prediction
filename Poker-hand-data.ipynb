{
 "cells": [
  {
   "cell_type": "code",
   "execution_count": 1,
   "metadata": {},
   "outputs": [],
   "source": [
    "#importing the classes and functions\n",
    "from pyspark.conf import SparkConf\n",
    "from pyspark.sql import SparkSession\n",
    "from pyspark import SparkContext\n",
    "from pyspark.mllib.linalg import Vectors\n",
    "from pyspark.mllib.tree import RandomForest, RandomForestModel\n",
    "from pyspark.mllib.util import MLUtils\n",
    "from pyspark.mllib.regression import LabeledPoint"
   ]
  },
  {
   "cell_type": "code",
   "execution_count": 2,
   "metadata": {},
   "outputs": [],
   "source": [
    "#setting the data files for users and their friend list\n",
    "file_path = 'data/poker-train.csv'\n",
    "app_name = 'Poker Hand Prediction'\n",
    "master = 'local'"
   ]
  },
  {
   "cell_type": "code",
   "execution_count": 3,
   "metadata": {},
   "outputs": [],
   "source": [
    "#configuring the Spark and setting the master & app name\n",
    "spark = SparkConf().setAppName(app_name).setMaster(master)\n",
    "sc = SparkContext(conf=spark)"
   ]
  },
  {
   "cell_type": "code",
   "execution_count": 4,
   "metadata": {},
   "outputs": [],
   "source": [
    "poker_data = sc.textFile(file_path).map(lambda x :[int(x) for x in x.split(',')]).map(lambda x: LabeledPoint(x[10],x[0:10]))"
   ]
  },
  {
   "cell_type": "code",
   "execution_count": 5,
   "metadata": {},
   "outputs": [
    {
     "data": {
      "text/plain": [
       "[LabeledPoint(9.0, [1.0,10.0,1.0,11.0,1.0,13.0,1.0,12.0,1.0,1.0]),\n",
       " LabeledPoint(9.0, [2.0,11.0,2.0,13.0,2.0,10.0,2.0,12.0,2.0,1.0]),\n",
       " LabeledPoint(9.0, [3.0,12.0,3.0,11.0,3.0,13.0,3.0,10.0,3.0,1.0]),\n",
       " LabeledPoint(9.0, [4.0,10.0,4.0,11.0,4.0,1.0,4.0,13.0,4.0,12.0]),\n",
       " LabeledPoint(9.0, [4.0,1.0,4.0,13.0,4.0,12.0,4.0,11.0,4.0,10.0]),\n",
       " LabeledPoint(8.0, [1.0,2.0,1.0,4.0,1.0,5.0,1.0,3.0,1.0,6.0]),\n",
       " LabeledPoint(8.0, [1.0,9.0,1.0,12.0,1.0,10.0,1.0,11.0,1.0,13.0]),\n",
       " LabeledPoint(8.0, [2.0,1.0,2.0,2.0,2.0,3.0,2.0,4.0,2.0,5.0]),\n",
       " LabeledPoint(8.0, [3.0,5.0,3.0,6.0,3.0,9.0,3.0,7.0,3.0,8.0]),\n",
       " LabeledPoint(8.0, [4.0,1.0,4.0,4.0,4.0,2.0,4.0,3.0,4.0,5.0])]"
      ]
     },
     "execution_count": 5,
     "metadata": {},
     "output_type": "execute_result"
    }
   ],
   "source": [
    "poker_data.take(10)"
   ]
  },
  {
   "cell_type": "code",
   "execution_count": 6,
   "metadata": {},
   "outputs": [],
   "source": [
    "(trainingData, testData) = poker_data.randomSplit([0.7, 0.3])"
   ]
  },
  {
   "cell_type": "code",
   "execution_count": 7,
   "metadata": {},
   "outputs": [
    {
     "name": "stdout",
     "output_type": "stream",
     "text": [
      "gini 3 auto\n",
      "Test Error = 0.4789209705842483\n",
      "\n",
      "gini 3 all\n",
      "Test Error = 0.4630608648502101\n",
      "\n",
      "gini 3 sqrt\n",
      "Test Error = 0.44787854141249833\n",
      "\n",
      "gini 3 log2\n",
      "Test Error = 0.46617866341331166\n",
      "\n",
      "gini 3 onethird\n",
      "Test Error = 0.4812254303917582\n",
      "\n",
      "gini 5 auto\n",
      "Test Error = 0.4875965839772265\n",
      "\n",
      "gini 5 all\n",
      "Test Error = 0.462518639013149\n",
      "\n",
      "gini 5 sqrt\n",
      "Test Error = 0.4671275586281686\n",
      "\n",
      "gini 5 log2\n",
      "Test Error = 0.49125660837738916\n",
      "\n",
      "gini 5 onethird\n",
      "Test Error = 0.4819032126880846\n",
      "\n",
      "gini 7 auto\n",
      "Test Error = 0.4673986715466992\n",
      "\n",
      "gini 7 all\n",
      "Test Error = 0.4585875016944557\n",
      "\n",
      "gini 7 sqrt\n",
      "Test Error = 0.4878676968957571\n",
      "\n",
      "gini 7 log2\n",
      "Test Error = 0.457774162938864\n",
      "\n",
      "gini 7 onethird\n",
      "Test Error = 0.46617866341331166\n",
      "\n",
      "gini 9 auto\n",
      "Test Error = 0.48922326148840994\n",
      "\n",
      "gini 9 all\n",
      "Test Error = 0.46089196150196554\n",
      "\n",
      "gini 9 sqrt\n",
      "Test Error = 0.482580994984411\n",
      "\n",
      "gini 9 log2\n",
      "Test Error = 0.486376575843839\n",
      "\n",
      "gini 9 onethird\n",
      "Test Error = 0.48393655957706383\n",
      "\n",
      "entropy 3 auto\n",
      "Test Error = 0.4671275586281686\n",
      "\n",
      "entropy 3 all\n",
      "Test Error = 0.47200759116171886\n",
      "\n",
      "entropy 3 sqrt\n",
      "Test Error = 0.4614341873390267\n",
      "\n",
      "entropy 3 log2\n",
      "Test Error = 0.47404093805069814\n",
      "\n",
      "entropy 3 onethird\n",
      "Test Error = 0.47024535719127014\n",
      "\n",
      "entropy 5 auto\n",
      "Test Error = 0.47458316388775923\n",
      "\n",
      "entropy 5 all\n",
      "Test Error = 0.4589941710722516\n",
      "\n",
      "entropy 5 sqrt\n",
      "Test Error = 0.4777009624508608\n",
      "\n",
      "entropy 5 log2\n",
      "Test Error = 0.47566761556188153\n",
      "\n",
      "entropy 5 onethird\n",
      "Test Error = 0.471600921783923\n",
      "\n",
      "entropy 7 auto\n",
      "Test Error = 0.4665853327911075\n",
      "\n",
      "entropy 7 all\n",
      "Test Error = 0.46075640504270027\n",
      "\n",
      "entropy 7 sqrt\n",
      "Test Error = 0.46943201843567844\n",
      "\n",
      "entropy 7 log2\n",
      "Test Error = 0.46360309068727124\n",
      "\n",
      "entropy 7 onethird\n",
      "Test Error = 0.49234106005151146\n",
      "\n",
      "entropy 9 auto\n",
      "Test Error = 0.459671953368578\n",
      "\n",
      "entropy 9 all\n",
      "Test Error = 0.44435407347160094\n",
      "\n",
      "entropy 9 sqrt\n",
      "Test Error = 0.4893588179476752\n",
      "\n",
      "entropy 9 log2\n",
      "Test Error = 0.47404093805069814\n",
      "\n",
      "entropy 9 onethird\n",
      "Test Error = 0.47376982513216753\n",
      "\n",
      "0.44435407347160094\n"
     ]
    }
   ],
   "source": [
    "error = 1\n",
    "for impurity in ['gini','entropy']:\n",
    "    for num_trees in [3,5,7,9]:\n",
    "        for feature in ['auto', 'all', 'sqrt', 'log2', 'onethird']:\n",
    "            print(impurity + ' ' + str(num_trees) + ' ' + feature)\n",
    "            model = RandomForest.trainClassifier(trainingData, numClasses=10, categoricalFeaturesInfo={}, \\\n",
    "                                                 numTrees=num_trees, featureSubsetStrategy=feature, impurity=impurity, \\\n",
    "                                                 maxDepth=4, maxBins=32)\n",
    "            predictions = model.predict(testData.map(lambda x: x.features))\n",
    "            labelsAndPredictions = testData.map(lambda lp: lp.label).zip(predictions)\n",
    "            testErr = labelsAndPredictions.filter(\n",
    "                lambda lp: lp[0] != lp[1]).count() / float(testData.count())\n",
    "            if error > testErr:\n",
    "                error = testErr\n",
    "            print('Test Error = ' + str(testErr))\n",
    "            print()\n",
    "            \n",
    "print(error)"
   ]
  },
  {
   "cell_type": "code",
   "execution_count": null,
   "metadata": {},
   "outputs": [],
   "source": []
  }
 ],
 "metadata": {
  "kernelspec": {
   "display_name": "Python 3",
   "language": "python",
   "name": "python3"
  },
  "language_info": {
   "codemirror_mode": {
    "name": "ipython",
    "version": 3
   },
   "file_extension": ".py",
   "mimetype": "text/x-python",
   "name": "python",
   "nbconvert_exporter": "python",
   "pygments_lexer": "ipython3",
   "version": "3.6.6"
  }
 },
 "nbformat": 4,
 "nbformat_minor": 2
}
