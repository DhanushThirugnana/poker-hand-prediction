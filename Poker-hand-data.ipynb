{
 "cells": [
  {
   "cell_type": "code",
   "execution_count": 15,
   "metadata": {},
   "outputs": [],
   "source": [
    "#importing the classes and functions\n",
    "from pyspark.conf import SparkConf\n",
    "from pyspark import SparkContext\n",
    "from pyspark.mllib.tree import RandomForest\n",
    "from pyspark.mllib.regression import LabeledPoint\n",
    "from pyspark.mllib.tree import GradientBoostedTrees, GradientBoostedTreesModel"
   ]
  },
  {
   "cell_type": "code",
   "execution_count": 16,
   "metadata": {},
   "outputs": [],
   "source": [
    "#setting the data files for users and their friend list\n",
    "training_data_path = 'data/poker-train.csv'\n",
    "testing_data_path = 'data/poker-test.csv'\n",
    "app_name = 'Poker Hand Prediction'\n",
    "master = 'local'"
   ]
  },
  {
   "cell_type": "code",
   "execution_count": null,
   "metadata": {},
   "outputs": [],
   "source": [
    "#configuring the Spark and setting the master & app name\n",
    "spark = SparkConf().setAppName(app_name).setMaster(master)\n",
    "sc = SparkContext(conf=spark)"
   ]
  },
  {
   "cell_type": "code",
   "execution_count": 18,
   "metadata": {},
   "outputs": [],
   "source": [
    "poker_train_data = sc.textFile(training_data_path).map(lambda x :[int(x) for x in x.split(',')]).map(lambda x: LabeledPoint(x[10],x[0:10]))\n",
    "poker_test_data = sc.textFile(testing_data_path).map(lambda x :[int(x) for x in x.split(',')]).map(lambda x: LabeledPoint(x[10],x[0:10]))"
   ]
  },
  {
   "cell_type": "code",
   "execution_count": null,
   "metadata": {},
   "outputs": [],
   "source": [
    "error = []\n",
    "with open('Random Forest.txt', 'w+') as f:\n",
    "    f.write('Depth\\tImpurity\\tNum of Trees\\tFeature Subset\\tError')\n",
    "    for depth in range(4,10):\n",
    "        for num_trees in range(4,10,2):\n",
    "            for impurity in ['gini','entropy']:\n",
    "                for feature in ['auto', 'all', 'sqrt', 'log2', 'onethird']:\n",
    "                    model = RandomForest.trainClassifier(poker_train_data, \\\n",
    "                                                         numClasses=10, \\\n",
    "                                                         categoricalFeaturesInfo={}, \\\n",
    "                                                         numTrees=num_trees, \\\n",
    "                                                         featureSubsetStrategy=feature, \\\n",
    "                                                         impurity=impurity, \\\n",
    "                                                         maxDepth=depth, \\\n",
    "                                                         maxBins=32)\n",
    "                    predictions = model.predict(poker_test_data.map(lambda x: x.features))\n",
    "                    labelsAndPredictions = poker_test_data.map(lambda lp: lp.label).zip(predictions)\n",
    "                    testErr = labelsAndPredictions.filter(lambda lp: lp[0] != lp[1]).count()/float(poker_test_data.count())\n",
    "                    error.append(testErr)\n",
    "                    f.write(str(depth) + '\\t'+ impurity + '\\t\\t' + str(num_trees) \\\n",
    "                            + '\\t\\t' + feature + '\\t\\t' + str(testErr))\n",
    "print(min(error))"
   ]
  },
  {
   "cell_type": "code",
   "execution_count": null,
   "metadata": {},
   "outputs": [],
   "source": [
    "error = []\n",
    "with open('Gradient Boosting.txt', 'w+') as f:\n",
    "    f.write('Iterations\\Rate\\tDepth\\tLoss\\tError')\n",
    "    for iters in range(4,10):\n",
    "        for rate in range(0.1,1,0.1):\n",
    "            for depth in range(4,10):\n",
    "                for loss in ['logLoss', 'leastSquaresError', 'leastAbsoluteError']:\n",
    "                    model = GradientBoostedTrees.trainClassifier(poker_train_data, \\\n",
    "                                                                 categoricalFeaturesInfo={}, \\\n",
    "                                                                 loss=loss, \\\n",
    "                                                                 numIterations=iters, \\\n",
    "                                                                 learningRate=rate, \\\n",
    "                                                                 maxDepth=depth)\n",
    "                    predictions = model.predict(poker_test_data.map(lambda x: x.features))\n",
    "                    labelsAndPredictions = poker_test_data.map(lambda lp: lp.label).zip(predictions)\n",
    "                    testErr = labelsAndPredictions.filter(lambda lp: lp[0] != lp[1]).count()/float(poker_test_data.count())\n",
    "                    error.append(testErr)\n",
    "                    f.write(str(iters) + '\\t'+ str(rate) + '\\t\\t' + str(depth) \\\n",
    "                            + '\\t\\t' + loss + '\\t\\t' + str(testErr))\n",
    "print(min(error))"
   ]
  },
  {
   "cell_type": "code",
   "execution_count": null,
   "metadata": {},
   "outputs": [],
   "source": []
  }
 ],
 "metadata": {
  "kernelspec": {
   "display_name": "Python 3",
   "language": "python",
   "name": "python3"
  },
  "language_info": {
   "codemirror_mode": {
    "name": "ipython",
    "version": 3
   },
   "file_extension": ".py",
   "mimetype": "text/x-python",
   "name": "python",
   "nbconvert_exporter": "python",
   "pygments_lexer": "ipython3",
   "version": "3.6.6"
  }
 },
 "nbformat": 4,
 "nbformat_minor": 2
}
